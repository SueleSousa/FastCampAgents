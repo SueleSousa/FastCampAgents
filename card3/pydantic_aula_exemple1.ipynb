{
 "cells": [
  {
   "cell_type": "code",
   "execution_count": 1,
   "metadata": {},
   "outputs": [
    {
     "name": "stdout",
     "output_type": "stream",
     "text": [
      "name='Arjan' email='example@arjancodes.com' password=SecretStr('**********') role=None\n",
      "User is invalid\n",
      "{'type': 'missing', 'loc': ('name',), 'msg': 'Field required', 'input': {'email': '<bad data>', 'password': '<bad data>'}, 'url': 'https://errors.pydantic.dev/2.10/v/missing'}\n",
      "{'type': 'value_error', 'loc': ('email',), 'msg': 'value is not a valid email address: An email address must have an @-sign.', 'input': '<bad data>', 'ctx': {'reason': 'An email address must have an @-sign.'}}\n"
     ]
    }
   ],
   "source": [
    "from enum import auto, IntFlag #a biblioteca enum permite criar numerações\n",
    "from typing import Any #essa biblioteca é um suporte para tipos de dados\n",
    "\n",
    "#Pydant é uma biblioteca de validação de dados\n",
    "from pydantic import (\n",
    "    BaseModel, #essa é a base de toda a validação dos dados da biblioteca pydantic\n",
    "    EmailStr, #no caso valida se o e-mail está num formato válido\n",
    "    Field,  #função que permite adicionar mais informações às nossas funções, dados, etc\n",
    "    SecretStr, #função que permite esconder o valor de uma string\n",
    "    ValidationError, #função para validação de dados\n",
    ")\n",
    "\n",
    "\n",
    "class Role(IntFlag): #define o objeto role, que é composto de autor, editor, desenvolvedor e administrador\n",
    "    Author = auto()    \n",
    "    Editor = auto() \n",
    "    Developer = auto() \n",
    "    Admin = Author | Editor | Developer #combinação de todos os dados anteriores\n",
    "\n",
    "\n",
    "class User(BaseModel): #define o objeto user, composto de nome, email, password e role\n",
    "    name: str = Field(examples=[\"Arjan\"]) \n",
    "    email: EmailStr = Field(\n",
    "        examples=[\"example@arjancodes.com\"],\n",
    "        description=\"The email address of the user\",\n",
    "        frozen=True,\n",
    "    )\n",
    "    password: SecretStr = Field(\n",
    "        examples=[\"Password123\"], description=\"The password of the user\"\n",
    "    )\n",
    "    role: Role = Field(default=None, description=\"The role of the user\")\n",
    "\n",
    "    #nesse objeto utilizou a função Field do Pydantic para dar exemplos de quais dados estão corretos\n",
    "\n",
    "def validate(data: dict[str, Any]) -> None: #essa é a função criada para validar os dados inseridos no user\n",
    "    try:\n",
    "        user = User.model_validate(data) #utiliza a biblioteca model_validade para validar os dados\n",
    "        print(user)\n",
    "    except ValidationError as e: #caso os dados não sejam válidos, a mesangem de erro é mostrada\n",
    "        print(\"User is invalid\")\n",
    "        for error in e.errors():\n",
    "            print(error)\n",
    "\n",
    "\n",
    "def main() -> None: #essa é a função principal que chama as funções de validação\n",
    "    good_data = {\n",
    "        \"name\": \"Arjan\",\n",
    "        \"email\": \"example@arjancodes.com\",\n",
    "        \"password\": \"Password123\",\n",
    "    }\n",
    "    bad_data = {\"email\": \"<bad data>\", \"password\": \"<bad data>\"}\n",
    "\n",
    "    validate(good_data)\n",
    "    validate(bad_data)\n",
    "\n",
    "\n",
    "if __name__ == \"__main__\":\n",
    "    main()"
   ]
  }
 ],
 "metadata": {
  "kernelspec": {
   "display_name": ".venv",
   "language": "python",
   "name": "python3"
  },
  "language_info": {
   "codemirror_mode": {
    "name": "ipython",
    "version": 3
   },
   "file_extension": ".py",
   "mimetype": "text/x-python",
   "name": "python",
   "nbconvert_exporter": "python",
   "pygments_lexer": "ipython3",
   "version": "3.11.9"
  }
 },
 "nbformat": 4,
 "nbformat_minor": 2
}
